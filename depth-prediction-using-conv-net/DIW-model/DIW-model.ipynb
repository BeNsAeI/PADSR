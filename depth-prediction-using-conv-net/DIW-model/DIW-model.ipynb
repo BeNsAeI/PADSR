{
 "cells": [
  {
   "cell_type": "code",
   "execution_count": 5,
   "metadata": {},
   "outputs": [],
   "source": [
    "import PIL\n",
    "from PIL import Image\n",
    "import torch\n",
    "from torch.autograd import Variable\n",
    "from torchvision import transforms\n",
    "import DIW_transforms\n",
    "import numpy as np \n",
    "from models.hourglass import Model\n",
    "device = torch.device('cuda:0' if torch.cuda.is_available() else 'cpu')"
   ]
  },
  {
   "cell_type": "code",
   "execution_count": 6,
   "metadata": {},
   "outputs": [
    {
     "data": {
      "text/plain": [
       "Model(\n",
       "  (seq): Sequential(\n",
       "    (0): Conv2d(3, 128, kernel_size=(7, 7), stride=(1, 1), padding=(3, 3))\n",
       "    (1): BatchNorm2d(128, eps=1e-05, momentum=0.1, affine=True, track_running_stats=True)\n",
       "    (2): ReLU(inplace)\n",
       "    (3): Channels4(\n",
       "      (list): ModuleList(\n",
       "        (0): Sequential(\n",
       "          (0): AvgPool2d(kernel_size=2, stride=2, padding=0)\n",
       "          (1): inception[[32], [3, 32, 32], [5, 32, 32], [7, 32, 32]]\n",
       "          (2): inception[[32], [3, 32, 32], [5, 32, 32], [7, 32, 32]]\n",
       "          (3): Channels3(\n",
       "            (list): ModuleList(\n",
       "              (0): Sequential(\n",
       "                (0): AvgPool2d(kernel_size=2, stride=2, padding=0)\n",
       "                (1): inception[[32], [3, 32, 32], [5, 32, 32], [7, 32, 32]]\n",
       "                (2): inception[[64], [3, 32, 64], [5, 32, 64], [7, 32, 64]]\n",
       "                (3): Channels2(\n",
       "                  (list): ModuleList(\n",
       "                    (0): Sequential(\n",
       "                      (0): inception[[64], [3, 32, 64], [5, 32, 64], [7, 32, 64]]\n",
       "                      (1): inception[[64], [3, 64, 64], [7, 64, 64], [11, 64, 64]]\n",
       "                    )\n",
       "                    (1): Sequential(\n",
       "                      (0): AvgPool2d(kernel_size=2, stride=2, padding=0)\n",
       "                      (1): inception[[64], [3, 32, 64], [5, 32, 64], [7, 32, 64]]\n",
       "                      (2): inception[[64], [3, 32, 64], [5, 32, 64], [7, 32, 64]]\n",
       "                      (3): Channels1(\n",
       "                        (list): ModuleList(\n",
       "                          (0): Sequential(\n",
       "                            (0): inception[[64], [3, 32, 64], [5, 32, 64], [7, 32, 64]]\n",
       "                            (1): inception[[64], [3, 32, 64], [5, 32, 64], [7, 32, 64]]\n",
       "                          )\n",
       "                          (1): Sequential(\n",
       "                            (0): AvgPool2d(kernel_size=2, stride=2, padding=0)\n",
       "                            (1): inception[[64], [3, 32, 64], [5, 32, 64], [7, 32, 64]]\n",
       "                            (2): inception[[64], [3, 32, 64], [5, 32, 64], [7, 32, 64]]\n",
       "                            (3): inception[[64], [3, 32, 64], [5, 32, 64], [7, 32, 64]]\n",
       "                            (4): UpsamplingNearest2d(scale_factor=2, mode=nearest)\n",
       "                          )\n",
       "                        )\n",
       "                      )\n",
       "                      (4): inception[[64], [3, 32, 64], [5, 32, 64], [7, 32, 64]]\n",
       "                      (5): inception[[64], [3, 64, 64], [7, 64, 64], [11, 64, 64]]\n",
       "                      (6): UpsamplingNearest2d(scale_factor=2, mode=nearest)\n",
       "                    )\n",
       "                  )\n",
       "                )\n",
       "                (4): inception[[64], [3, 32, 64], [5, 32, 64], [7, 32, 64]]\n",
       "                (5): inception[[32], [3, 32, 32], [5, 32, 32], [7, 32, 32]]\n",
       "                (6): UpsamplingNearest2d(scale_factor=2, mode=nearest)\n",
       "              )\n",
       "              (1): Sequential(\n",
       "                (0): inception[[32], [3, 32, 32], [5, 32, 32], [7, 32, 32]]\n",
       "                (1): inception[[32], [3, 64, 32], [7, 64, 32], [11, 64, 32]]\n",
       "              )\n",
       "            )\n",
       "          )\n",
       "          (4): inception[[32], [3, 64, 32], [5, 64, 32], [7, 64, 32]]\n",
       "          (5): inception[[16], [3, 32, 16], [7, 32, 16], [11, 32, 16]]\n",
       "          (6): UpsamplingNearest2d(scale_factor=2, mode=nearest)\n",
       "        )\n",
       "        (1): Sequential(\n",
       "          (0): inception[[16], [3, 64, 16], [7, 64, 16], [11, 64, 16]]\n",
       "        )\n",
       "      )\n",
       "    )\n",
       "    (4): Conv2d(64, 1, kernel_size=(3, 3), stride=(1, 1), padding=(1, 1))\n",
       "  )\n",
       ")"
      ]
     },
     "execution_count": 6,
     "metadata": {},
     "output_type": "execute_result"
    }
   ],
   "source": [
    "sz = (320, 240)\n",
    "model = Model()\n",
    "model.load_state_dict(torch.load('weights.ckpt', map_location='cpu'))\n",
    "model.to(device)"
   ]
  },
  {
   "cell_type": "code",
   "execution_count": 7,
   "metadata": {},
   "outputs": [],
   "source": [
    "def batchify(raw_im_array, sz):\n",
    "    tfms = DIW_transforms.get_tfms(sz)\n",
    "    batch = []\n",
    "    \n",
    "    for im in raw_im_array:\n",
    "        batch.append(tfms(im))\n",
    "    \n",
    "    tensor_batch = torch.stack(batch)\n",
    "    return Variable(tensor_batch)\n",
    "\n",
    "def get_pred_depth_maps(preds):\n",
    "    op_size = preds.size()\n",
    "    h, w = op_size[2], op_size[3]\n",
    "    n_pixels = h*w\n",
    "    depths_batch = preds.data\n",
    "\n",
    "    depths_batch = depths_batch.view(-1, n_pixels)\n",
    "\n",
    "    image_wise_min = depths_batch.min(dim=1)[0] \n",
    "    image_wise_min = image_wise_min.unsqueeze(dim=1) \n",
    "    \n",
    "    depths_batch = depths_batch - image_wise_min\n",
    "    \n",
    "    image_wise_max = depths_batch.max(dim=1)[0]\n",
    "    image_wise_max = image_wise_max.unsqueeze(dim=1)\n",
    "    depths_batch = depths_batch / image_wise_max\n",
    "\n",
    "    depths_batch = depths_batch.view(-1, 1, h, w)\n",
    "    depths_batch = (depths_batch*255).type(torch.IntTensor)\n",
    "    depths_batch = depths_batch.squeeze(dim=1).numpy()\n",
    "    return depths_batch"
   ]
  },
  {
   "cell_type": "code",
   "execution_count": 11,
   "metadata": {},
   "outputs": [],
   "source": [
    "#image batch would be a numpy array NxHxWx3\n",
    "im_batch = np.array([np.asarray(Image.open('../IMG_4121.jpg').rotate(180)), np.asarray(Image.open('IMG_4122.jpg').rotate(180))])\n",
    "\n",
    "def predict(model, im_batch):\n",
    "    #with torch.no_grad():\n",
    "    #with torch.volatile:\n",
    "    model.eval()\n",
    "    batch = batchify(im_batch, sz)\n",
    "    batch.to(device)\n",
    "    preds = model(batch)\n",
    "    return get_pred_depth_maps(preds)"
   ]
  },
  {
   "cell_type": "code",
   "execution_count": null,
   "metadata": {},
   "outputs": [],
   "source": [
    "depths_batch = predict(model, im_batch)"
   ]
  },
  {
   "cell_type": "code",
   "execution_count": null,
   "metadata": {},
   "outputs": [],
   "source": [
    "Image.fromarray(depths_batch[0].astype('uint8'))"
   ]
  },
  {
   "cell_type": "code",
   "execution_count": null,
   "metadata": {},
   "outputs": [],
   "source": []
  }
 ],
 "metadata": {
  "kernelspec": {
   "display_name": "Python 3",
   "language": "python",
   "name": "python3"
  },
  "language_info": {
   "codemirror_mode": {
    "name": "ipython",
    "version": 3
   },
   "file_extension": ".py",
   "mimetype": "text/x-python",
   "name": "python",
   "nbconvert_exporter": "python",
   "pygments_lexer": "ipython3",
   "version": "3.7.2"
  }
 },
 "nbformat": 4,
 "nbformat_minor": 2
}
